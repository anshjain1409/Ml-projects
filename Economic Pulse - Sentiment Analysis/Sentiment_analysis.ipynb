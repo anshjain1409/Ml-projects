{
 "cells": [
  {
   "cell_type": "code",
   "execution_count": 1,
   "id": "ad70abf9",
   "metadata": {},
   "outputs": [],
   "source": [
    "# import nltk\n",
    "# nltk.download('stopwords')\n",
    "\n",
    "%matplotlib inline\n"
   ]
  },
  {
   "cell_type": "code",
   "execution_count": 2,
   "id": "ebaf8138",
   "metadata": {},
   "outputs": [
    {
     "data": {
      "text/html": [
       "<div>\n",
       "<style scoped>\n",
       "    .dataframe tbody tr th:only-of-type {\n",
       "        vertical-align: middle;\n",
       "    }\n",
       "\n",
       "    .dataframe tbody tr th {\n",
       "        vertical-align: top;\n",
       "    }\n",
       "\n",
       "    .dataframe thead th {\n",
       "        text-align: right;\n",
       "    }\n",
       "</style>\n",
       "<table border=\"1\" class=\"dataframe\">\n",
       "  <thead>\n",
       "    <tr style=\"text-align: right;\">\n",
       "      <th></th>\n",
       "      <th>Title</th>\n",
       "      <th>URL</th>\n",
       "      <th>Content</th>\n",
       "    </tr>\n",
       "  </thead>\n",
       "  <tbody>\n",
       "    <tr>\n",
       "      <th>0</th>\n",
       "      <td>What does Donald Trump’s tariff war mean for I...</td>\n",
       "      <td>https://www.livemint.com/economy/donald-trump-...</td>\n",
       "      <td>Trump Tariff War:United States PresidentDonald...</td>\n",
       "    </tr>\n",
       "    <tr>\n",
       "      <th>1</th>\n",
       "      <td>Canada Ready for Talks on USMCA and China Dump...</td>\n",
       "      <td>https://www.livemint.com/economy/canada-ready-...</td>\n",
       "      <td>Canada is ready to begin early talks on review...</td>\n",
       "    </tr>\n",
       "    <tr>\n",
       "      <th>2</th>\n",
       "      <td>UK and EU Advance Talks on Seizing Frozen Russ...</td>\n",
       "      <td>https://www.livemint.com/economy/uk-and-eu-adv...</td>\n",
       "      <td>The UK and European Union will advance talks o...</td>\n",
       "    </tr>\n",
       "    <tr>\n",
       "      <th>3</th>\n",
       "      <td>There ain't no Golden Age-Just Trump, turmoil,...</td>\n",
       "      <td>https://economictimes.indiatimes.com/opinion/e...</td>\n",
       "      <td>Donald Trump wants to smash the current world ...</td>\n",
       "    </tr>\n",
       "    <tr>\n",
       "      <th>4</th>\n",
       "      <td>Donald Trump claims tariff is the only cure to...</td>\n",
       "      <td>https://www.livemint.com/economy/donald-trump-...</td>\n",
       "      <td>US PresidentDonald Trumpdefended his reciproca...</td>\n",
       "    </tr>\n",
       "    <tr>\n",
       "      <th>...</th>\n",
       "      <td>...</td>\n",
       "      <td>...</td>\n",
       "      <td>...</td>\n",
       "    </tr>\n",
       "    <tr>\n",
       "      <th>617</th>\n",
       "      <td>The ghost of inflation may not leave the India...</td>\n",
       "      <td>https://economictimes.indiatimes.com/news/econ...</td>\n",
       "      <td>Inflation in India is unlikely to ease quickly...</td>\n",
       "    </tr>\n",
       "    <tr>\n",
       "      <th>618</th>\n",
       "      <td>India seeks to shake off ‘tariff king’ label i...</td>\n",
       "      <td>https://economictimes.indiatimes.com/news/econ...</td>\n",
       "      <td>India’s government made significant cuts to im...</td>\n",
       "    </tr>\n",
       "    <tr>\n",
       "      <th>619</th>\n",
       "      <td>Economic Survey takes a hard look at Elephant ...</td>\n",
       "      <td>https://economictimes.indiatimes.com/news/econ...</td>\n",
       "      <td>India's journey to becoming a developed nation...</td>\n",
       "    </tr>\n",
       "    <tr>\n",
       "      <th>620</th>\n",
       "      <td>GST rate cut soon, tax review in final stages,...</td>\n",
       "      <td>https://www.livemint.com/economy/gst-rate-cut-...</td>\n",
       "      <td>Goods and Services Tax (GST) Council is in the...</td>\n",
       "    </tr>\n",
       "    <tr>\n",
       "      <th>621</th>\n",
       "      <td>Global risks won’t abate, need to be more purp...</td>\n",
       "      <td>https://economictimes.indiatimes.com/news/econ...</td>\n",
       "      <td>New Delhi: Finance secretary Ajay Seth Saturda...</td>\n",
       "    </tr>\n",
       "  </tbody>\n",
       "</table>\n",
       "<p>622 rows × 3 columns</p>\n",
       "</div>"
      ],
      "text/plain": [
       "                                                 Title  \\\n",
       "0    What does Donald Trump’s tariff war mean for I...   \n",
       "1    Canada Ready for Talks on USMCA and China Dump...   \n",
       "2    UK and EU Advance Talks on Seizing Frozen Russ...   \n",
       "3    There ain't no Golden Age-Just Trump, turmoil,...   \n",
       "4    Donald Trump claims tariff is the only cure to...   \n",
       "..                                                 ...   \n",
       "617  The ghost of inflation may not leave the India...   \n",
       "618  India seeks to shake off ‘tariff king’ label i...   \n",
       "619  Economic Survey takes a hard look at Elephant ...   \n",
       "620  GST rate cut soon, tax review in final stages,...   \n",
       "621  Global risks won’t abate, need to be more purp...   \n",
       "\n",
       "                                                   URL  \\\n",
       "0    https://www.livemint.com/economy/donald-trump-...   \n",
       "1    https://www.livemint.com/economy/canada-ready-...   \n",
       "2    https://www.livemint.com/economy/uk-and-eu-adv...   \n",
       "3    https://economictimes.indiatimes.com/opinion/e...   \n",
       "4    https://www.livemint.com/economy/donald-trump-...   \n",
       "..                                                 ...   \n",
       "617  https://economictimes.indiatimes.com/news/econ...   \n",
       "618  https://economictimes.indiatimes.com/news/econ...   \n",
       "619  https://economictimes.indiatimes.com/news/econ...   \n",
       "620  https://www.livemint.com/economy/gst-rate-cut-...   \n",
       "621  https://economictimes.indiatimes.com/news/econ...   \n",
       "\n",
       "                                               Content  \n",
       "0    Trump Tariff War:United States PresidentDonald...  \n",
       "1    Canada is ready to begin early talks on review...  \n",
       "2    The UK and European Union will advance talks o...  \n",
       "3    Donald Trump wants to smash the current world ...  \n",
       "4    US PresidentDonald Trumpdefended his reciproca...  \n",
       "..                                                 ...  \n",
       "617  Inflation in India is unlikely to ease quickly...  \n",
       "618  India’s government made significant cuts to im...  \n",
       "619  India's journey to becoming a developed nation...  \n",
       "620  Goods and Services Tax (GST) Council is in the...  \n",
       "621  New Delhi: Finance secretary Ajay Seth Saturda...  \n",
       "\n",
       "[622 rows x 3 columns]"
      ]
     },
     "execution_count": 2,
     "metadata": {},
     "output_type": "execute_result"
    }
   ],
   "source": [
    "import pandas as pd\n",
    "\n",
    "df_livemint = pd.read_csv(\"articles_livemint_final.csv\")\n",
    "df_economictimes = pd.read_csv(\"news_articles_cleaned2.csv.xls\")\n",
    "df_livemint.sample(5)\n",
    "articles_df = pd.concat([df_livemint,df_economictimes],ignore_index=True)\n",
    "articles_df = articles_df.sample(frac=1).reset_index(drop=True)\n",
    "articles_df\n"
   ]
  },
  {
   "cell_type": "code",
   "execution_count": 3,
   "id": "ddcec388",
   "metadata": {},
   "outputs": [],
   "source": [
    "import re\n",
    "\n",
    "def clean_text(text):\n",
    "    text = re.sub(r\"http\\S+\", \"\", text)  # remove URLs\n",
    "    text = re.sub(r\"[^A-Za-z0-9\\s]\", \"\", text)  # remove special chars\n",
    "    return text.strip().lower()\n",
    "\n",
    "articles_df['Cleaned Content'] = articles_df['Content'].apply(clean_text)\n"
   ]
  },
  {
   "cell_type": "code",
   "execution_count": 4,
   "id": "7000c580",
   "metadata": {},
   "outputs": [
    {
     "data": {
      "text/plain": [
       "(622, 4)"
      ]
     },
     "execution_count": 4,
     "metadata": {},
     "output_type": "execute_result"
    }
   ],
   "source": [
    "articles_df.shape"
   ]
  },
  {
   "cell_type": "code",
   "execution_count": 5,
   "id": "2a9853ed",
   "metadata": {},
   "outputs": [
    {
     "name": "stderr",
     "output_type": "stream",
     "text": [
      "[nltk_data] Downloading package punkt to\n",
      "[nltk_data]     C:\\Users\\KIIT\\AppData\\Roaming\\nltk_data...\n",
      "[nltk_data]   Package punkt is already up-to-date!\n"
     ]
    }
   ],
   "source": [
    "from nltk.corpus import stopwords\n",
    "from nltk.tokenize import word_tokenize\n",
    "import nltk\n",
    "nltk.download('punkt')  # for word_tokenize\n",
    "\n",
    "# Get English stop words\n",
    "stop_words = set(stopwords.words('english'))\n",
    "\n",
    "# Function to remove stop words\n",
    "def remove_stopwords(text):\n",
    "    words = word_tokenize(text)\n",
    "    filtered = [word for word in words if word.lower() not in stop_words]\n",
    "    return ' '.join(filtered)\n",
    "\n",
    "# Apply to the DataFrame\n",
    "articles_df['Cleaned Content'] = articles_df['Cleaned Content'].apply(remove_stopwords)\n",
    "\n",
    "# print(df[['Content', 'Cleaned Content']])\n"
   ]
  },
  {
   "cell_type": "code",
   "execution_count": 6,
   "id": "55c538bb",
   "metadata": {},
   "outputs": [
    {
     "data": {
      "text/html": [
       "<div>\n",
       "<style scoped>\n",
       "    .dataframe tbody tr th:only-of-type {\n",
       "        vertical-align: middle;\n",
       "    }\n",
       "\n",
       "    .dataframe tbody tr th {\n",
       "        vertical-align: top;\n",
       "    }\n",
       "\n",
       "    .dataframe thead th {\n",
       "        text-align: right;\n",
       "    }\n",
       "</style>\n",
       "<table border=\"1\" class=\"dataframe\">\n",
       "  <thead>\n",
       "    <tr style=\"text-align: right;\">\n",
       "      <th></th>\n",
       "      <th>Title</th>\n",
       "      <th>URL</th>\n",
       "      <th>Content</th>\n",
       "      <th>Cleaned Content</th>\n",
       "    </tr>\n",
       "  </thead>\n",
       "  <tbody>\n",
       "    <tr>\n",
       "      <th>0</th>\n",
       "      <td>What does Donald Trump’s tariff war mean for I...</td>\n",
       "      <td>https://www.livemint.com/economy/donald-trump-...</td>\n",
       "      <td>Trump Tariff War:United States PresidentDonald...</td>\n",
       "      <td>trump tariff warunited states presidentdonald ...</td>\n",
       "    </tr>\n",
       "    <tr>\n",
       "      <th>1</th>\n",
       "      <td>Canada Ready for Talks on USMCA and China Dump...</td>\n",
       "      <td>https://www.livemint.com/economy/canada-ready-...</td>\n",
       "      <td>Canada is ready to begin early talks on review...</td>\n",
       "      <td>canada ready begin early talks reviewing north...</td>\n",
       "    </tr>\n",
       "    <tr>\n",
       "      <th>2</th>\n",
       "      <td>UK and EU Advance Talks on Seizing Frozen Russ...</td>\n",
       "      <td>https://www.livemint.com/economy/uk-and-eu-adv...</td>\n",
       "      <td>The UK and European Union will advance talks o...</td>\n",
       "      <td>uk european union advance talks seize frozen r...</td>\n",
       "    </tr>\n",
       "    <tr>\n",
       "      <th>3</th>\n",
       "      <td>There ain't no Golden Age-Just Trump, turmoil,...</td>\n",
       "      <td>https://economictimes.indiatimes.com/opinion/e...</td>\n",
       "      <td>Donald Trump wants to smash the current world ...</td>\n",
       "      <td>donald trump wants smash current world economi...</td>\n",
       "    </tr>\n",
       "    <tr>\n",
       "      <th>4</th>\n",
       "      <td>Donald Trump claims tariff is the only cure to...</td>\n",
       "      <td>https://www.livemint.com/economy/donald-trump-...</td>\n",
       "      <td>US PresidentDonald Trumpdefended his reciproca...</td>\n",
       "      <td>us presidentdonald trumpdefended reciprocal ta...</td>\n",
       "    </tr>\n",
       "  </tbody>\n",
       "</table>\n",
       "</div>"
      ],
      "text/plain": [
       "                                               Title  \\\n",
       "0  What does Donald Trump’s tariff war mean for I...   \n",
       "1  Canada Ready for Talks on USMCA and China Dump...   \n",
       "2  UK and EU Advance Talks on Seizing Frozen Russ...   \n",
       "3  There ain't no Golden Age-Just Trump, turmoil,...   \n",
       "4  Donald Trump claims tariff is the only cure to...   \n",
       "\n",
       "                                                 URL  \\\n",
       "0  https://www.livemint.com/economy/donald-trump-...   \n",
       "1  https://www.livemint.com/economy/canada-ready-...   \n",
       "2  https://www.livemint.com/economy/uk-and-eu-adv...   \n",
       "3  https://economictimes.indiatimes.com/opinion/e...   \n",
       "4  https://www.livemint.com/economy/donald-trump-...   \n",
       "\n",
       "                                             Content  \\\n",
       "0  Trump Tariff War:United States PresidentDonald...   \n",
       "1  Canada is ready to begin early talks on review...   \n",
       "2  The UK and European Union will advance talks o...   \n",
       "3  Donald Trump wants to smash the current world ...   \n",
       "4  US PresidentDonald Trumpdefended his reciproca...   \n",
       "\n",
       "                                     Cleaned Content  \n",
       "0  trump tariff warunited states presidentdonald ...  \n",
       "1  canada ready begin early talks reviewing north...  \n",
       "2  uk european union advance talks seize frozen r...  \n",
       "3  donald trump wants smash current world economi...  \n",
       "4  us presidentdonald trumpdefended reciprocal ta...  "
      ]
     },
     "execution_count": 6,
     "metadata": {},
     "output_type": "execute_result"
    }
   ],
   "source": [
    "articles_df.head()"
   ]
  },
  {
   "cell_type": "code",
   "execution_count": 7,
   "id": "54f68e9c",
   "metadata": {},
   "outputs": [
    {
     "name": "stderr",
     "output_type": "stream",
     "text": [
      "[nltk_data] Downloading package vader_lexicon to\n",
      "[nltk_data]     C:\\Users\\KIIT\\AppData\\Roaming\\nltk_data...\n",
      "[nltk_data]   Package vader_lexicon is already up-to-date!\n"
     ]
    }
   ],
   "source": [
    "from nltk.sentiment.vader import SentimentIntensityAnalyzer\n",
    "import nltk\n",
    "nltk.download('vader_lexicon')\n",
    "\n",
    "sia = SentimentIntensityAnalyzer()\n",
    "\n",
    "def get_sentiment(text):\n",
    "    score = sia.polarity_scores(text)\n",
    "    return 'positive' if score['compound'] > 0 else 'negative'\n",
    "\n",
    "articles_df['Sentiment'] = articles_df['Cleaned Content'].apply(get_sentiment)\n"
   ]
  },
  {
   "cell_type": "code",
   "execution_count": 8,
   "id": "853c2689",
   "metadata": {},
   "outputs": [
    {
     "data": {
      "text/html": [
       "<div>\n",
       "<style scoped>\n",
       "    .dataframe tbody tr th:only-of-type {\n",
       "        vertical-align: middle;\n",
       "    }\n",
       "\n",
       "    .dataframe tbody tr th {\n",
       "        vertical-align: top;\n",
       "    }\n",
       "\n",
       "    .dataframe thead th {\n",
       "        text-align: right;\n",
       "    }\n",
       "</style>\n",
       "<table border=\"1\" class=\"dataframe\">\n",
       "  <thead>\n",
       "    <tr style=\"text-align: right;\">\n",
       "      <th></th>\n",
       "      <th>Title</th>\n",
       "      <th>URL</th>\n",
       "      <th>Content</th>\n",
       "      <th>Cleaned Content</th>\n",
       "      <th>Sentiment</th>\n",
       "    </tr>\n",
       "  </thead>\n",
       "  <tbody>\n",
       "    <tr>\n",
       "      <th>203</th>\n",
       "      <td>Municipal bond issuances in India to exceed  ₹...</td>\n",
       "      <td>https://www.livemint.com/economy/municipal-bon...</td>\n",
       "      <td>New Delhi [India], March 19 (ANI): Municipal b...</td>\n",
       "      <td>new delhi india march 19 ani municipal bond is...</td>\n",
       "      <td>positive</td>\n",
       "    </tr>\n",
       "    <tr>\n",
       "      <th>435</th>\n",
       "      <td>Economic Survey shows concern for workplace me...</td>\n",
       "      <td>https://economictimes.indiatimes.com/news/econ...</td>\n",
       "      <td>Workplace mental health issues have been a hot...</td>\n",
       "      <td>workplace mental health issues hot topic latel...</td>\n",
       "      <td>negative</td>\n",
       "    </tr>\n",
       "    <tr>\n",
       "      <th>316</th>\n",
       "      <td>Rising trend in Bengaluru? Woman claims meetin...</td>\n",
       "      <td>https://economictimes.indiatimes.com/magazines...</td>\n",
       "      <td>Bengaluru’s chaotic traffic is a well-known st...</td>\n",
       "      <td>bengalurus chaotic traffic wellknown struggle ...</td>\n",
       "      <td>positive</td>\n",
       "    </tr>\n",
       "    <tr>\n",
       "      <th>230</th>\n",
       "      <td>Stable inflation is important to sustain growt...</td>\n",
       "      <td>https://economictimes.indiatimes.com/news/econ...</td>\n",
       "      <td>Mumbai: Reserve Bank of India (RBI) Governor S...</td>\n",
       "      <td>mumbai reserve bank india rbi governor shaktik...</td>\n",
       "      <td>positive</td>\n",
       "    </tr>\n",
       "    <tr>\n",
       "      <th>525</th>\n",
       "      <td>Manufacturing’s ‘Be Your Boss’ moment: About 4...</td>\n",
       "      <td>https://economictimes.indiatimes.com/news/econ...</td>\n",
       "      <td>Nearly half the employees in the manufacturing...</td>\n",
       "      <td>nearly half employees manufacturing sector sel...</td>\n",
       "      <td>negative</td>\n",
       "    </tr>\n",
       "    <tr>\n",
       "      <th>81</th>\n",
       "      <td>America's pain, India's gain? US recession can...</td>\n",
       "      <td>https://economictimes.indiatimes.com/news/econ...</td>\n",
       "      <td>As US President Donald Trump's tariffs threate...</td>\n",
       "      <td>us president donald trumps tariffs threaten gl...</td>\n",
       "      <td>negative</td>\n",
       "    </tr>\n",
       "    <tr>\n",
       "      <th>496</th>\n",
       "      <td>Economic Survey: India's real GDP for FY26 pro...</td>\n",
       "      <td>https://economictimes.indiatimes.com/news/econ...</td>\n",
       "      <td>India's real Gross Domestic Product (GDP) grow...</td>\n",
       "      <td>indias real gross domestic product gdp growth ...</td>\n",
       "      <td>negative</td>\n",
       "    </tr>\n",
       "    <tr>\n",
       "      <th>211</th>\n",
       "      <td>New RBI governor seeks to improve forecasts, s...</td>\n",
       "      <td>https://economictimes.indiatimes.com/news/econ...</td>\n",
       "      <td>India's new central bank governor Sanjay Malho...</td>\n",
       "      <td>indias new central bank governor sanjay malhot...</td>\n",
       "      <td>negative</td>\n",
       "    </tr>\n",
       "    <tr>\n",
       "      <th>263</th>\n",
       "      <td>Union minister Jitendra Singh says Rs 1,000-cr...</td>\n",
       "      <td>https://economictimes.indiatimes.com/news/scie...</td>\n",
       "      <td>NEW DELHI: The Rs 1,000 crore funding scheme f...</td>\n",
       "      <td>new delhi rs 1000 crore funding scheme space s...</td>\n",
       "      <td>positive</td>\n",
       "    </tr>\n",
       "    <tr>\n",
       "      <th>50</th>\n",
       "      <td>India grows 6.2% in Q3; FY25 forecast bumped u...</td>\n",
       "      <td>https://economictimes.indiatimes.com/news/econ...</td>\n",
       "      <td>India's economy picked up pace in the December...</td>\n",
       "      <td>indias economy picked pace december quarter ex...</td>\n",
       "      <td>positive</td>\n",
       "    </tr>\n",
       "  </tbody>\n",
       "</table>\n",
       "</div>"
      ],
      "text/plain": [
       "                                                 Title  \\\n",
       "203  Municipal bond issuances in India to exceed  ₹...   \n",
       "435  Economic Survey shows concern for workplace me...   \n",
       "316  Rising trend in Bengaluru? Woman claims meetin...   \n",
       "230  Stable inflation is important to sustain growt...   \n",
       "525  Manufacturing’s ‘Be Your Boss’ moment: About 4...   \n",
       "81   America's pain, India's gain? US recession can...   \n",
       "496  Economic Survey: India's real GDP for FY26 pro...   \n",
       "211  New RBI governor seeks to improve forecasts, s...   \n",
       "263  Union minister Jitendra Singh says Rs 1,000-cr...   \n",
       "50   India grows 6.2% in Q3; FY25 forecast bumped u...   \n",
       "\n",
       "                                                   URL  \\\n",
       "203  https://www.livemint.com/economy/municipal-bon...   \n",
       "435  https://economictimes.indiatimes.com/news/econ...   \n",
       "316  https://economictimes.indiatimes.com/magazines...   \n",
       "230  https://economictimes.indiatimes.com/news/econ...   \n",
       "525  https://economictimes.indiatimes.com/news/econ...   \n",
       "81   https://economictimes.indiatimes.com/news/econ...   \n",
       "496  https://economictimes.indiatimes.com/news/econ...   \n",
       "211  https://economictimes.indiatimes.com/news/econ...   \n",
       "263  https://economictimes.indiatimes.com/news/scie...   \n",
       "50   https://economictimes.indiatimes.com/news/econ...   \n",
       "\n",
       "                                               Content  \\\n",
       "203  New Delhi [India], March 19 (ANI): Municipal b...   \n",
       "435  Workplace mental health issues have been a hot...   \n",
       "316  Bengaluru’s chaotic traffic is a well-known st...   \n",
       "230  Mumbai: Reserve Bank of India (RBI) Governor S...   \n",
       "525  Nearly half the employees in the manufacturing...   \n",
       "81   As US President Donald Trump's tariffs threate...   \n",
       "496  India's real Gross Domestic Product (GDP) grow...   \n",
       "211  India's new central bank governor Sanjay Malho...   \n",
       "263  NEW DELHI: The Rs 1,000 crore funding scheme f...   \n",
       "50   India's economy picked up pace in the December...   \n",
       "\n",
       "                                       Cleaned Content Sentiment  \n",
       "203  new delhi india march 19 ani municipal bond is...  positive  \n",
       "435  workplace mental health issues hot topic latel...  negative  \n",
       "316  bengalurus chaotic traffic wellknown struggle ...  positive  \n",
       "230  mumbai reserve bank india rbi governor shaktik...  positive  \n",
       "525  nearly half employees manufacturing sector sel...  negative  \n",
       "81   us president donald trumps tariffs threaten gl...  negative  \n",
       "496  indias real gross domestic product gdp growth ...  negative  \n",
       "211  indias new central bank governor sanjay malhot...  negative  \n",
       "263  new delhi rs 1000 crore funding scheme space s...  positive  \n",
       "50   indias economy picked pace december quarter ex...  positive  "
      ]
     },
     "execution_count": 8,
     "metadata": {},
     "output_type": "execute_result"
    }
   ],
   "source": [
    "articles_df.sample(10)"
   ]
  },
  {
   "cell_type": "code",
   "execution_count": 9,
   "id": "1ef51fb4",
   "metadata": {},
   "outputs": [],
   "source": [
    "# BTS of VADER SENTIMENT CLASSIFICATION\n",
    "#  {\n",
    "#     'neg': 0.1,      # proportion of negative words\n",
    "#     'neu': 0.7,      # proportion of neutral words\n",
    "#     'pos': 0.2,      # proportion of positive words\n",
    "#     'compound': 0.34 # overall score (from -1 to 1)\n",
    "# }"
   ]
  },
  {
   "cell_type": "code",
   "execution_count": 10,
   "id": "059972bc",
   "metadata": {},
   "outputs": [
    {
     "data": {
      "text/plain": [
       "Sentiment\n",
       "positive    383\n",
       "negative    239\n",
       "Name: count, dtype: int64"
      ]
     },
     "execution_count": 10,
     "metadata": {},
     "output_type": "execute_result"
    }
   ],
   "source": [
    "articles_df['Sentiment'].value_counts()"
   ]
  },
  {
   "cell_type": "code",
   "execution_count": 11,
   "id": "5528e978",
   "metadata": {},
   "outputs": [],
   "source": [
    "articles_df.to_excel(\"articles.xlsx\", index=False)"
   ]
  },
  {
   "cell_type": "code",
   "execution_count": 12,
   "id": "9816bbc8",
   "metadata": {},
   "outputs": [
    {
     "data": {
      "image/png": "[encoded data removed]",
      "text/plain": [
       "<Figure size 640x480 with 1 Axes>"
      ]
     },
     "metadata": {},
     "output_type": "display_data"
    },
    {
     "data": {
      "text/plain": [
       "Sentiment\n",
       "positive    383\n",
       "negative    239\n",
       "Name: count, dtype: int64"
      ]
     },
     "execution_count": 12,
     "metadata": {},
     "output_type": "execute_result"
    }
   ],
   "source": [
    "import matplotlib.pyplot as plt\n",
    "\n",
    "articles_df['Sentiment'].value_counts().plot(kind='bar', color=['green', 'red'])\n",
    "plt.title(\"Sentiment Distribution of Articles\")\n",
    "plt.xlabel(\"Sentiment\")\n",
    "plt.ylabel(\"Number of Articles\")\n",
    "plt.show()\n",
    "articles_df['Sentiment'].value_counts()"
   ]
  },
  {
   "cell_type": "code",
   "execution_count": 13,
   "id": "092425dd",
   "metadata": {},
   "outputs": [],
   "source": [
    "from ydata_profiling import ProfileReport"
   ]
  },
  {
   "cell_type": "code",
   "execution_count": null,
   "id": "ccaf4600",
   "metadata": {},
   "outputs": [
    {
     "data": {
      "application/vnd.jupyter.widget-view+json": {
       "model_id": "8281a51a79a9468ba9af5fb99277c7b4",
       "version_major": 2,
       "version_minor": 0
      },
      "text/plain": [
       "Summarize dataset:   0%|          | 0/5 [00:00<?, ?it/s]"
      ]
     },
     "metadata": {},
     "output_type": "display_data"
    },
    {
     "data": {
      "application/vnd.jupyter.widget-view+json": {
       "model_id": "97f56628c18945d093b5f19214c9214e",
       "version_major": 2,
       "version_minor": 0
      },
      "text/plain": [
       "Generate report structure:   0%|          | 0/1 [00:00<?, ?it/s]"
      ]
     },
     "metadata": {},
     "output_type": "display_data"
    },
    {
     "data": {
      "application/vnd.jupyter.widget-view+json": {
       "model_id": "974cb0200c914b3cb44fb577e521975e",
       "version_major": 2,
       "version_minor": 0
      },
      "text/plain": [
       "Render HTML:   0%|          | 0/1 [00:00<?, ?it/s]"
      ]
     },
     "metadata": {},
     "output_type": "display_data"
    },
    {
     "data": {
      "application/vnd.jupyter.widget-view+json": {
       "model_id": "d3381e0cb98e49149ce5ba83df1147e0",
       "version_major": 2,
       "version_minor": 0
      },
      "text/plain": [
       "Export report to file:   0%|          | 0/1 [00:00<?, ?it/s]"
      ]
     },
     "metadata": {},
     "output_type": "display_data"
    }
   ],
   "source": [
    "# Create the profile report\n",
    "profile = ProfileReport(articles_df, title=\"News Articles Profiling Report\", explorative=True)\n",
    "\n",
    "# Export to HTML file\n",
    "profile.to_file(\"news_articles_profile_report.html\")"
   ]
  },
  {
   "cell_type": "code",
   "execution_count": 14,
   "id": "22ac204e",
   "metadata": {},
   "outputs": [
    {
     "name": "stderr",
     "output_type": "stream",
     "text": [
      "2025-05-12 10:56:36.195 WARNING streamlit.runtime.scriptrunner_utils.script_run_context: Thread 'MainThread': missing ScriptRunContext! This warning can be ignored when running in bare mode.\n",
      "2025-05-12 10:56:37.059 \n",
      "  \u001b[33m\u001b[1mWarning:\u001b[0m to view this Streamlit app on a browser, run it with the following\n",
      "  command:\n",
      "\n",
      "    streamlit run C:\\Users\\KIIT\\AppData\\Roaming\\Python\\Python312\\site-packages\\ipykernel_launcher.py [ARGUMENTS]\n",
      "2025-05-12 10:56:37.059 Thread 'MainThread': missing ScriptRunContext! This warning can be ignored when running in bare mode.\n",
      "2025-05-12 10:56:37.059 Thread 'MainThread': missing ScriptRunContext! This warning can be ignored when running in bare mode.\n",
      "2025-05-12 10:56:37.059 Thread 'MainThread': missing ScriptRunContext! This warning can be ignored when running in bare mode.\n",
      "2025-05-12 10:56:37.059 Thread 'MainThread': missing ScriptRunContext! This warning can be ignored when running in bare mode.\n",
      "2025-05-12 10:56:37.065 Thread 'MainThread': missing ScriptRunContext! This warning can be ignored when running in bare mode.\n",
      "2025-05-12 10:56:37.065 Session state does not function when running a script without `streamlit run`\n",
      "2025-05-12 10:56:37.065 Thread 'MainThread': missing ScriptRunContext! This warning can be ignored when running in bare mode.\n",
      "2025-05-12 10:56:37.065 Thread 'MainThread': missing ScriptRunContext! This warning can be ignored when running in bare mode.\n",
      "2025-05-12 10:56:37.065 Thread 'MainThread': missing ScriptRunContext! This warning can be ignored when running in bare mode.\n",
      "2025-05-12 10:56:37.065 Thread 'MainThread': missing ScriptRunContext! This warning can be ignored when running in bare mode.\n",
      "2025-05-12 10:56:37.935 Thread 'MainThread': missing ScriptRunContext! This warning can be ignored when running in bare mode.\n",
      "2025-05-12 10:56:37.935 Thread 'MainThread': missing ScriptRunContext! This warning can be ignored when running in bare mode.\n",
      "2025-05-12 10:56:37.935 Thread 'MainThread': missing ScriptRunContext! This warning can be ignored when running in bare mode.\n",
      "2025-05-12 10:56:37.938 Thread 'MainThread': missing ScriptRunContext! This warning can be ignored when running in bare mode.\n",
      "2025-05-12 10:56:39.685 Thread 'MainThread': missing ScriptRunContext! This warning can be ignored when running in bare mode.\n",
      "2025-05-12 10:56:39.712 Thread 'MainThread': missing ScriptRunContext! This warning can be ignored when running in bare mode.\n",
      "2025-05-12 10:56:39.715 Thread 'MainThread': missing ScriptRunContext! This warning can be ignored when running in bare mode.\n",
      "2025-05-12 10:56:39.715 Thread 'MainThread': missing ScriptRunContext! This warning can be ignored when running in bare mode.\n",
      "2025-05-12 10:56:39.715 Thread 'MainThread': missing ScriptRunContext! This warning can be ignored when running in bare mode.\n",
      "2025-05-12 10:56:39.715 Thread 'MainThread': missing ScriptRunContext! This warning can be ignored when running in bare mode.\n",
      "2025-05-12 10:56:39.715 Thread 'MainThread': missing ScriptRunContext! This warning can be ignored when running in bare mode.\n",
      "2025-05-12 10:56:39.715 Thread 'MainThread': missing ScriptRunContext! This warning can be ignored when running in bare mode.\n",
      "2025-05-12 10:56:39.720 Thread 'MainThread': missing ScriptRunContext! This warning can be ignored when running in bare mode.\n",
      "2025-05-12 10:56:39.720 Thread 'MainThread': missing ScriptRunContext! This warning can be ignored when running in bare mode.\n",
      "2025-05-12 10:56:39.722 Thread 'MainThread': missing ScriptRunContext! This warning can be ignored when running in bare mode.\n"
     ]
    }
   ],
   "source": [
    "import streamlit as st\n",
    "import pandas as pd\n",
    "import matplotlib.pyplot as plt\n",
    "from wordcloud import WordCloud\n",
    "\n",
    "# Load your CSV\n",
    "# df = pd.read_csv('articles_livemint_final.csv')\n",
    "\n",
    "# Title\n",
    "st.title(\"📰 News Article Sentiment Dashboard\")\n",
    "\n",
    "# Sidebar filter\n",
    "sentiment = st.sidebar.selectbox(\"Select Sentiment\", [\"All\"] + list(articles_df['Sentiment'].unique()))\n",
    "\n",
    "# Filter DataFrame\n",
    "if sentiment != \"All\":\n",
    "    filtered_df = articles_df[articles_df['Sentiment'] == sentiment]\n",
    "else:\n",
    "    filtered_df = articles_df\n",
    "\n",
    "# Show basic stats\n",
    "st.subheader(\"Sentiment Distribution\")\n",
    "st.bar_chart(articles_df['Sentiment'].value_counts())\n",
    "\n",
    "# Word Cloud\n",
    "st.subheader(\"Word Cloud of Cleaned Content\")\n",
    "text = \" \".join(filtered_df['Cleaned Content'].astype(str))\n",
    "wordcloud = WordCloud(width=800, height=400, background_color='white').generate(text)\n",
    "st.image(wordcloud.to_array())\n",
    "\n",
    "# Article Search\n",
    "st.subheader(\"Search Articles\")\n",
    "search_term = st.text_input(\"Enter keyword to search in titles\")\n",
    "if search_term:\n",
    "    results = articles_df[articles_df['title'].str.contains(search_term, case=False)]\n",
    "    st.write(f\"Found {len(results)} articles\")\n",
    "    for i, row in results.iterrows():\n",
    "        st.markdown(f\"**{row['title']}**\")\n",
    "        st.write(row['content'])\n",
    "        st.markdown(\"---\")\n"
   ]
  },
  {
   "cell_type": "code",
   "execution_count": null,
   "id": "19783554",
   "metadata": {},
   "outputs": [],
   "source": []
  }
 ],
 "metadata": {
  "kernelspec": {
   "display_name": "base",
   "language": "python",
   "name": "python3"
  },
  "language_info": {
   "codemirror_mode": {
    "name": "ipython",
    "version": 3
   },
   "file_extension": ".py",
   "mimetype": "text/x-python",
   "name": "python",
   "nbconvert_exporter": "python",
   "pygments_lexer": "ipython3",
   "version": "3.12.4"
  }
 },
 "nbformat": 4,
 "nbformat_minor": 5
}
